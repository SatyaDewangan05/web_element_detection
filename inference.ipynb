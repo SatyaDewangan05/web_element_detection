{
 "cells": [
  {
   "cell_type": "code",
   "execution_count": null,
   "metadata": {},
   "outputs": [],
   "source": [
    "!pip install requests"
   ]
  },
  {
   "cell_type": "code",
   "execution_count": 8,
   "metadata": {},
   "outputs": [],
   "source": [
    "import re\n",
    "import requests\n",
    "import json, os\n",
    "from tqdm import tqdm"
   ]
  },
  {
   "cell_type": "code",
   "execution_count": 17,
   "metadata": {},
   "outputs": [
    {
     "name": "stdout",
     "output_type": "stream",
     "text": [
      "Please enter figma access key\n"
     ]
    }
   ],
   "source": [
    "# Extract the File Key from the Figma file URL\n",
    "figma_url = \"https://figma.com/file/g1g2eqHbhnAD85YRggHBfe/Tortilicious-(-A-Fast-Food-App)-(Community)?type=design&node-id=0-1&mode=design&t=4ldvZfdcvbnMTQVp-0\"\n",
    "file_key = re.search(r\"file\\/(.+)\\/.+\", figma_url).group(1)\n",
    "\n",
    "# temp access key: figd_wbezkAoMgQ1KmkVuJjVwSYgoqiNf1GSiOvZVDYFH\n",
    "ACCESS_TOKEN = \"ENTER_FIGMA_KEY\"\n",
    "if ACCESS_TOKEN==\"ENTER_FIGMA_KEY\":\n",
    "    print('Please enter figma access key')\n",
    "else:\n",
    "    # Base URL for the Figma API\n",
    "    BASE_URL = \"https://api.figma.com/v1/files\"\n",
    "\n",
    "    # Construct the API endpoint URL\n",
    "    url = f\"{BASE_URL}/{file_key}\"\n",
    "\n",
    "    # Set the headers for the API request\n",
    "    headers = {\n",
    "        \"X-Figma-Token\": ACCESS_TOKEN,\n",
    "        \"Content-Type\": \"application/json\",\n",
    "    }"
   ]
  },
  {
   "cell_type": "code",
   "execution_count": 10,
   "metadata": {},
   "outputs": [
    {
     "name": "stdout",
     "output_type": "stream",
     "text": [
      "export_url:  https://api.figma.com/v1/images/g1g2eqHbhnAD85YRggHBfe?ids=4:2\n",
      "export_response:  b'{\"err\":null,\"images\":{\"4:2\":\"https://figma-alpha-api.s3.us-west-2.amazonaws.com/images/937292e6-614c-44df-b1ff-9b0c225b077e\"}}'\n",
      "Exported file: images/g1g2eqHbhnAD85YRggHBfe_0_0.png\n",
      "export_url:  https://api.figma.com/v1/images/g1g2eqHbhnAD85YRggHBfe?ids=5:4\n",
      "export_response:  b'{\"err\":null,\"images\":{\"5:4\":\"https://figma-alpha-api.s3.us-west-2.amazonaws.com/images/590d9872-ca50-4002-b6d7-a03dd7f88b1f\"}}'\n",
      "Exported file: images/g1g2eqHbhnAD85YRggHBfe_1_0.png\n",
      "export_url:  https://api.figma.com/v1/images/g1g2eqHbhnAD85YRggHBfe?ids=7:2\n",
      "export_response:  b'{\"err\":null,\"images\":{\"7:2\":\"https://figma-alpha-api.s3.us-west-2.amazonaws.com/images/1ec598ac-2da9-495f-9056-dfd83c44878d\"}}'\n",
      "Exported file: images/g1g2eqHbhnAD85YRggHBfe_2_0.png\n",
      "export_url:  https://api.figma.com/v1/images/g1g2eqHbhnAD85YRggHBfe?ids=8:33\n",
      "export_response:  b'{\"err\":null,\"images\":{\"8:33\":\"https://figma-alpha-api.s3.us-west-2.amazonaws.com/images/dbec8278-8a1c-4356-b394-e83798385585\"}}'\n",
      "Exported file: images/g1g2eqHbhnAD85YRggHBfe_3_0.png\n"
     ]
    }
   ],
   "source": [
    "# Send the GET request to the API\n",
    "response = requests.get(url, headers=headers)\n",
    "\n",
    "# Check if the request was successful\n",
    "if response.status_code == 200:\n",
    "    # Get the JSON data from the response\n",
    "    data = response.json()\n",
    "\n",
    "    for id, item in tqdm(enumerate(data['document']['children'][0]['children'])):\n",
    "        # Construct the URL to export the entire file as an image\n",
    "        export_url = f\"https://api.figma.com/v1/images/{file_key}?ids={item['id']}\"\n",
    "\n",
    "        # Send the GET request to export the file\n",
    "        export_response = requests.get(export_url, headers=headers)\n",
    "\n",
    "        for new_id, i in enumerate(json.loads(export_response.content)['images'].values()):\n",
    "            image = requests.get(i)\n",
    "            os.makedirs('images', exist_ok=True)\n",
    "            with open(f\"images/{file_key}_{id}_{new_id}.png\", \"wb\") as f:\n",
    "                f.write(image.content)\n",
    "                print(f\"Exported file: images/{file_key}_{id}_{new_id}.png\")\n",
    "else:\n",
    "    print(f\"Error: {response.status_code} - {response.text}\")"
   ]
  },
  {
   "cell_type": "code",
   "execution_count": 2,
   "metadata": {},
   "outputs": [
    {
     "name": "stdout",
     "output_type": "stream",
     "text": [
      "Defaulting to user installation because normal site-packages is not writeable\n",
      "Requirement already satisfied: ultralytics in /home/satya/.local/lib/python3.10/site-packages (8.1.34)\n",
      "Requirement already satisfied: requests>=2.23.0 in /home/satya/.local/lib/python3.10/site-packages (from ultralytics) (2.31.0)\n",
      "Requirement already satisfied: pyyaml>=5.3.1 in /usr/lib/python3/dist-packages (from ultralytics) (5.4.1)\n",
      "Requirement already satisfied: torchvision>=0.9.0 in /home/satya/.local/lib/python3.10/site-packages (from ultralytics) (0.17.1)\n",
      "Requirement already satisfied: seaborn>=0.11.0 in /home/satya/.local/lib/python3.10/site-packages (from ultralytics) (0.13.2)\n",
      "Requirement already satisfied: tqdm>=4.64.0 in /home/satya/.local/lib/python3.10/site-packages (from ultralytics) (4.66.1)\n",
      "Requirement already satisfied: thop>=0.1.1 in /home/satya/.local/lib/python3.10/site-packages (from ultralytics) (0.1.1.post2209072238)\n",
      "Requirement already satisfied: psutil in /home/satya/.local/lib/python3.10/site-packages (from ultralytics) (5.9.8)\n",
      "Requirement already satisfied: opencv-python>=4.6.0 in /home/satya/.local/lib/python3.10/site-packages (from ultralytics) (4.9.0.80)\n",
      "Requirement already satisfied: pandas>=1.1.4 in /home/satya/.local/lib/python3.10/site-packages (from ultralytics) (2.2.1)\n",
      "Requirement already satisfied: pillow>=7.1.2 in /home/satya/.local/lib/python3.10/site-packages (from ultralytics) (10.2.0)\n",
      "Requirement already satisfied: py-cpuinfo in /home/satya/.local/lib/python3.10/site-packages (from ultralytics) (9.0.0)\n",
      "Requirement already satisfied: torch>=1.8.0 in /home/satya/.local/lib/python3.10/site-packages (from ultralytics) (2.2.1)\n",
      "Requirement already satisfied: matplotlib>=3.3.0 in /home/satya/.local/lib/python3.10/site-packages (from ultralytics) (3.8.3)\n",
      "Requirement already satisfied: scipy>=1.4.1 in /home/satya/.local/lib/python3.10/site-packages (from ultralytics) (1.12.0)\n",
      "Requirement already satisfied: fonttools>=4.22.0 in /home/satya/.local/lib/python3.10/site-packages (from matplotlib>=3.3.0->ultralytics) (4.50.0)\n",
      "Requirement already satisfied: contourpy>=1.0.1 in /home/satya/.local/lib/python3.10/site-packages (from matplotlib>=3.3.0->ultralytics) (1.2.0)\n",
      "Requirement already satisfied: packaging>=20.0 in /home/satya/.local/lib/python3.10/site-packages (from matplotlib>=3.3.0->ultralytics) (23.2)\n",
      "Requirement already satisfied: cycler>=0.10 in /home/satya/.local/lib/python3.10/site-packages (from matplotlib>=3.3.0->ultralytics) (0.12.1)\n",
      "Requirement already satisfied: numpy<2,>=1.21 in /home/satya/.local/lib/python3.10/site-packages (from matplotlib>=3.3.0->ultralytics) (1.26.3)\n",
      "Requirement already satisfied: pyparsing>=2.3.1 in /usr/lib/python3/dist-packages (from matplotlib>=3.3.0->ultralytics) (2.4.7)\n",
      "Requirement already satisfied: kiwisolver>=1.3.1 in /home/satya/.local/lib/python3.10/site-packages (from matplotlib>=3.3.0->ultralytics) (1.4.5)\n",
      "Requirement already satisfied: python-dateutil>=2.7 in /home/satya/.local/lib/python3.10/site-packages (from matplotlib>=3.3.0->ultralytics) (2.9.0.post0)\n",
      "Requirement already satisfied: tzdata>=2022.7 in /home/satya/.local/lib/python3.10/site-packages (from pandas>=1.1.4->ultralytics) (2024.1)\n",
      "Requirement already satisfied: pytz>=2020.1 in /usr/lib/python3/dist-packages (from pandas>=1.1.4->ultralytics) (2022.1)\n",
      "Requirement already satisfied: certifi>=2017.4.17 in /usr/lib/python3/dist-packages (from requests>=2.23.0->ultralytics) (2020.6.20)\n",
      "Requirement already satisfied: charset-normalizer<4,>=2 in /home/satya/.local/lib/python3.10/site-packages (from requests>=2.23.0->ultralytics) (3.3.2)\n",
      "Requirement already satisfied: idna<4,>=2.5 in /usr/lib/python3/dist-packages (from requests>=2.23.0->ultralytics) (3.3)\n",
      "Requirement already satisfied: urllib3<3,>=1.21.1 in /home/satya/.local/lib/python3.10/site-packages (from requests>=2.23.0->ultralytics) (2.2.0)\n",
      "Requirement already satisfied: nvidia-nccl-cu12==2.19.3 in /home/satya/.local/lib/python3.10/site-packages (from torch>=1.8.0->ultralytics) (2.19.3)\n",
      "Requirement already satisfied: nvidia-cuda-runtime-cu12==12.1.105 in /home/satya/.local/lib/python3.10/site-packages (from torch>=1.8.0->ultralytics) (12.1.105)\n",
      "Requirement already satisfied: fsspec in /home/satya/.local/lib/python3.10/site-packages (from torch>=1.8.0->ultralytics) (2024.3.1)\n",
      "Requirement already satisfied: triton==2.2.0 in /home/satya/.local/lib/python3.10/site-packages (from torch>=1.8.0->ultralytics) (2.2.0)\n",
      "Requirement already satisfied: nvidia-nvtx-cu12==12.1.105 in /home/satya/.local/lib/python3.10/site-packages (from torch>=1.8.0->ultralytics) (12.1.105)\n",
      "Requirement already satisfied: sympy in /home/satya/.local/lib/python3.10/site-packages (from torch>=1.8.0->ultralytics) (1.12)\n",
      "Requirement already satisfied: nvidia-cusolver-cu12==11.4.5.107 in /home/satya/.local/lib/python3.10/site-packages (from torch>=1.8.0->ultralytics) (11.4.5.107)\n",
      "Requirement already satisfied: nvidia-cuda-cupti-cu12==12.1.105 in /home/satya/.local/lib/python3.10/site-packages (from torch>=1.8.0->ultralytics) (12.1.105)\n",
      "Requirement already satisfied: jinja2 in /home/satya/.local/lib/python3.10/site-packages (from torch>=1.8.0->ultralytics) (3.1.3)\n",
      "Requirement already satisfied: nvidia-cusparse-cu12==12.1.0.106 in /home/satya/.local/lib/python3.10/site-packages (from torch>=1.8.0->ultralytics) (12.1.0.106)\n",
      "Requirement already satisfied: nvidia-cuda-nvrtc-cu12==12.1.105 in /home/satya/.local/lib/python3.10/site-packages (from torch>=1.8.0->ultralytics) (12.1.105)\n",
      "Requirement already satisfied: nvidia-cudnn-cu12==8.9.2.26 in /home/satya/.local/lib/python3.10/site-packages (from torch>=1.8.0->ultralytics) (8.9.2.26)\n",
      "Requirement already satisfied: typing-extensions>=4.8.0 in /home/satya/.local/lib/python3.10/site-packages (from torch>=1.8.0->ultralytics) (4.10.0)\n",
      "Requirement already satisfied: nvidia-cublas-cu12==12.1.3.1 in /home/satya/.local/lib/python3.10/site-packages (from torch>=1.8.0->ultralytics) (12.1.3.1)\n",
      "Requirement already satisfied: filelock in /home/satya/.local/lib/python3.10/site-packages (from torch>=1.8.0->ultralytics) (3.13.3)\n",
      "Requirement already satisfied: nvidia-curand-cu12==10.3.2.106 in /home/satya/.local/lib/python3.10/site-packages (from torch>=1.8.0->ultralytics) (10.3.2.106)\n",
      "Requirement already satisfied: nvidia-cufft-cu12==11.0.2.54 in /home/satya/.local/lib/python3.10/site-packages (from torch>=1.8.0->ultralytics) (11.0.2.54)\n",
      "Requirement already satisfied: networkx in /home/satya/.local/lib/python3.10/site-packages (from torch>=1.8.0->ultralytics) (3.2.1)\n",
      "Requirement already satisfied: nvidia-nvjitlink-cu12 in /home/satya/.local/lib/python3.10/site-packages (from nvidia-cusolver-cu12==11.4.5.107->torch>=1.8.0->ultralytics) (12.4.99)\n",
      "Requirement already satisfied: six>=1.5 in /usr/lib/python3/dist-packages (from python-dateutil>=2.7->matplotlib>=3.3.0->ultralytics) (1.16.0)\n",
      "Requirement already satisfied: MarkupSafe>=2.0 in /usr/lib/python3/dist-packages (from jinja2->torch>=1.8.0->ultralytics) (2.0.1)\n",
      "Requirement already satisfied: mpmath>=0.19 in /home/satya/.local/lib/python3.10/site-packages (from sympy->torch>=1.8.0->ultralytics) (1.3.0)\n",
      "Defaulting to user installation because normal site-packages is not writeable\n",
      "Requirement already satisfied: pillow in /home/satya/.local/lib/python3.10/site-packages (10.2.0)\n"
     ]
    }
   ],
   "source": [
    "!pip install ultralytics\n",
    "!pip install pillow"
   ]
  },
  {
   "cell_type": "code",
   "execution_count": 15,
   "metadata": {},
   "outputs": [
    {
     "name": "stdout",
     "output_type": "stream",
     "text": [
      "\n",
      "0: 640x320 3 buttons, 1 field, 1 heading, 3 images, 3 texts, 5.9ms\n",
      "Speed: 1.8ms preprocess, 5.9ms inference, 1.0ms postprocess per image at shape (1, 3, 640, 320)\n",
      "Results saved to \u001b[1mruns/detect/predict2\u001b[0m\n",
      "\n",
      "0: 640x320 5 buttons, 1 field, 4 headings, 8 images, 7 texts, 5.1ms\n",
      "Speed: 2.3ms preprocess, 5.1ms inference, 0.9ms postprocess per image at shape (1, 3, 640, 320)\n",
      "Results saved to \u001b[1mruns/detect/predict2\u001b[0m\n",
      "\n",
      "0: 640x320 4 buttons, 2 fields, 1 heading, 3 images, 5 texts, 5.0ms\n",
      "Speed: 2.4ms preprocess, 5.0ms inference, 1.0ms postprocess per image at shape (1, 3, 640, 320)\n",
      "Results saved to \u001b[1mruns/detect/predict2\u001b[0m\n",
      "\n",
      "0: 640x320 1 heading, 5.5ms\n",
      "Speed: 1.1ms preprocess, 5.5ms inference, 1.0ms postprocess per image at shape (1, 3, 640, 320)\n",
      "Results saved to \u001b[1mruns/detect/predict2\u001b[0m\n"
     ]
    }
   ],
   "source": [
    "from ultralytics import YOLO\n",
    "from PIL import Image\n",
    "import os\n",
    "\n",
    "model = YOLO('yolov8n_custom/weights/best.pt')\n",
    "\n",
    "# Running detection algorithm in each images and removing is simultaneously\n",
    "for i in os.listdir('images'):\n",
    "    im1 = Image.open(f'images/{i}')\n",
    "    results = model.predict(source=im1, save=True)  # save plotted images\n",
    "    os.remove(f'images/{i}')\n",
    "    print(f'removed images/{i}')"
   ]
  }
 ],
 "metadata": {
  "kernelspec": {
   "display_name": "Python 3",
   "language": "python",
   "name": "python3"
  },
  "language_info": {
   "codemirror_mode": {
    "name": "ipython",
    "version": 3
   },
   "file_extension": ".py",
   "mimetype": "text/x-python",
   "name": "python",
   "nbconvert_exporter": "python",
   "pygments_lexer": "ipython3",
   "version": "3.10.12"
  }
 },
 "nbformat": 4,
 "nbformat_minor": 2
}
